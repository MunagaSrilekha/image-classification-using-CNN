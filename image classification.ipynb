{
 "cells": [
  {
   "cell_type": "code",
   "execution_count": 62,
   "id": "d955d8ee-a7fe-472d-94bf-fc280756edf7",
   "metadata": {},
   "outputs": [],
   "source": [
    "import tensorflow as tf\n",
    "from tensorflow.keras import datasets, layers, models\n",
    "import matplotlib.pyplot as plt\n",
    "import numpy as np"
   ]
  },
  {
   "cell_type": "code",
   "execution_count": 63,
   "id": "a2bdc857-b8aa-4764-8564-07d1d265c128",
   "metadata": {},
   "outputs": [],
   "source": [
    "import os \n",
    "os.environ['KMP_DUPLICATE_LIB_OK']='True'"
   ]
  },
  {
   "cell_type": "code",
   "execution_count": 65,
   "id": "d7576b8e-0763-431b-b3fb-05b0ec36afe0",
   "metadata": {},
   "outputs": [
    {
     "data": {
      "text/plain": [
       "(50000, 32, 32, 3)"
      ]
     },
     "execution_count": 65,
     "metadata": {},
     "output_type": "execute_result"
    }
   ],
   "source": [
    "(x_train, y_train), (x_test, y_test) = datasets.cifar10.load_data()\n",
    "x_train.shape\n"
   ]
  },
  {
   "cell_type": "code",
   "execution_count": 66,
   "id": "353db0da-039d-42ff-b940-a50360413841",
   "metadata": {},
   "outputs": [
    {
     "data": {
      "text/plain": [
       "(10000, 32, 32, 3)"
      ]
     },
     "execution_count": 66,
     "metadata": {},
     "output_type": "execute_result"
    }
   ],
   "source": [
    "x_test.shape"
   ]
  },
  {
   "cell_type": "code",
   "execution_count": 67,
   "id": "b6514dbf-8abd-4074-9cfc-b5de0415fdf5",
   "metadata": {},
   "outputs": [
    {
     "data": {
      "text/plain": [
       "(50000, 32, 32, 3)"
      ]
     },
     "execution_count": 67,
     "metadata": {},
     "output_type": "execute_result"
    }
   ],
   "source": [
    "x_train.shape"
   ]
  },
  {
   "cell_type": "code",
   "execution_count": 69,
   "id": "912b7c4a-dc07-45e1-99f7-dcadf869dc09",
   "metadata": {},
   "outputs": [
    {
     "data": {
      "text/plain": [
       "array([[6],\n",
       "       [9],\n",
       "       [9],\n",
       "       [4],\n",
       "       [1]], dtype=uint8)"
      ]
     },
     "execution_count": 69,
     "metadata": {},
     "output_type": "execute_result"
    }
   ],
   "source": [
    "y_train[:5]"
   ]
  },
  {
   "cell_type": "code",
   "execution_count": 70,
   "id": "1b4d6327-1f5c-4b48-b233-ada94bd7fc6c",
   "metadata": {},
   "outputs": [
    {
     "data": {
      "text/plain": [
       "array([6, 9, 9, 4, 1], dtype=uint8)"
      ]
     },
     "execution_count": 70,
     "metadata": {},
     "output_type": "execute_result"
    }
   ],
   "source": [
    "y_train = y_train.reshape(-1,)\n",
    "y_train[:5]"
   ]
  },
  {
   "cell_type": "code",
   "execution_count": 71,
   "id": "c85053b1-246a-4c6c-91c0-c225e5b0e3a8",
   "metadata": {},
   "outputs": [],
   "source": [
    "y_test = y_test.reshape(-1,)"
   ]
  },
  {
   "cell_type": "code",
   "execution_count": 72,
   "id": "3032df2d-42ff-4b45-9bc8-1a50005d94e8",
   "metadata": {},
   "outputs": [],
   "source": [
    "categories = [\"aeroplane\",\"automobile\",\"bird\",\"cat\",\"deer\",\"dog\",\"frog\",\"horse\",\"ship\",\"truck\"]"
   ]
  },
  {
   "cell_type": "code",
   "execution_count": 76,
   "id": "95081cce-7d29-44b5-839e-5c1e358c5340",
   "metadata": {},
   "outputs": [],
   "source": [
    "def plot_sample(x,y,index):\n",
    "    plt.figure(figsize=(15,2))\n",
    "    plt.imshow(x[index])\n",
    "    plt.xlabel(categories[y[index]])"
   ]
  },
  {
   "cell_type": "code",
   "execution_count": 77,
   "id": "d961d1a9-5af6-442f-a1b6-8b3d42849d91",
   "metadata": {},
   "outputs": [
    {
     "data": {
      "image/png": "[encoded data removed]",
      "text/plain": [
       "<Figure size 1500x200 with 1 Axes>"
      ]
     },
     "metadata": {},
     "output_type": "display_data"
    }
   ],
   "source": [
    "plot_sample(x_train,y_train,0)"
   ]
  },
  {
   "cell_type": "code",
   "execution_count": 78,
   "id": "fc203e80-b2a2-4c62-9f54-51db38a4bafc",
   "metadata": {},
   "outputs": [
    {
     "data": {
      "image/png": "[encoded data removed]",
      "text/plain": [
       "<Figure size 1500x200 with 1 Axes>"
      ]
     },
     "metadata": {},
     "output_type": "display_data"
    }
   ],
   "source": [
    "plot_sample(x_train,y_train,1)"
   ]
  },
  {
   "cell_type": "code",
   "execution_count": 79,
   "id": "faebae0c-dae4-4b77-be03-953225e2c8a5",
   "metadata": {},
   "outputs": [],
   "source": [
    "x_train = x_train/255.0\n",
    "x_test = x_test/255.0"
   ]
  },
  {
   "cell_type": "code",
   "execution_count": 80,
   "id": "5f9dbb32-e980-4d3b-8f5a-f5ffb3bd2583",
   "metadata": {},
   "outputs": [
    {
     "name": "stdout",
     "output_type": "stream",
     "text": [
      "Epoch 1/5\n",
      "1563/1563 [==============================] - 4s 2ms/step - loss: 1.9308 - accuracy: 0.3048\n",
      "Epoch 2/5\n",
      "1563/1563 [==============================] - 4s 2ms/step - loss: 1.7683 - accuracy: 0.3715\n",
      "Epoch 3/5\n",
      "1563/1563 [==============================] - 4s 2ms/step - loss: 1.7066 - accuracy: 0.3966\n",
      "Epoch 4/5\n",
      "1563/1563 [==============================] - 4s 2ms/step - loss: 1.6636 - accuracy: 0.4142\n",
      "Epoch 5/5\n",
      "1563/1563 [==============================] - 4s 2ms/step - loss: 1.6329 - accuracy: 0.4243\n",
      "313/313 [==============================] - 1s 2ms/step - loss: 1.5839 - accuracy: 0.4457\n"
     ]
    },
    {
     "data": {
      "text/plain": [
       "[1.5839320421218872, 0.4456999897956848]"
      ]
     },
     "execution_count": 80,
     "metadata": {},
     "output_type": "execute_result"
    }
   ],
   "source": [
    "model = tf.keras.models.Sequential([\n",
    "  tf.keras.layers.Flatten(input_shape=(32,32,3)),\n",
    "  tf.keras.layers.Dense(128, activation='relu'),\n",
    "  tf.keras.layers.Dropout(0.2),\n",
    "  tf.keras.layers.Dense(10, activation='softmax')\n",
    "])\n",
    "\n",
    "model.compile(optimizer='SGD',\n",
    "              loss='sparse_categorical_crossentropy',\n",
    "              metrics=['accuracy'])\n",
    "\n",
    "model.fit(x_train, y_train, epochs=5)\n",
    "model.evaluate(x_test, y_test)\n",
    "\n"
   ]
  },
  {
   "cell_type": "code",
   "execution_count": 81,
   "id": "84f56088-ed7b-4313-b92b-7222682d40d5",
   "metadata": {},
   "outputs": [
    {
     "name": "stdout",
     "output_type": "stream",
     "text": [
      "313/313 [==============================] - 1s 3ms/step\n",
      "Classification Report: \n",
      "               precision    recall  f1-score   support\n",
      "\n",
      "           0       0.45      0.58      0.51      1000\n",
      "           1       0.57      0.52      0.54      1000\n",
      "           2       0.36      0.29      0.32      1000\n",
      "           3       0.32      0.33      0.32      1000\n",
      "           4       0.42      0.35      0.38      1000\n",
      "           5       0.39      0.30      0.34      1000\n",
      "           6       0.44      0.57      0.50      1000\n",
      "           7       0.45      0.56      0.50      1000\n",
      "           8       0.48      0.63      0.55      1000\n",
      "           9       0.66      0.33      0.44      1000\n",
      "\n",
      "    accuracy                           0.45     10000\n",
      "   macro avg       0.45      0.45      0.44     10000\n",
      "weighted avg       0.45      0.45      0.44     10000\n",
      "\n"
     ]
    }
   ],
   "source": [
    "from sklearn.metrics import confusion_matrix, classification_report\n",
    "import numpy as np\n",
    "y_pred = model.predict(x_test)\n",
    "y_pred_categories = [np.argmax(element) for element in y_pred]\n",
    "\n",
    "print(\"Classification Report: \\n\",classification_report(y_test,y_pred_categories))"
   ]
  },
  {
   "cell_type": "code",
   "execution_count": 82,
   "id": "55339382-b8c3-4a20-84fe-f9b0470f9db8",
   "metadata": {},
   "outputs": [],
   "source": [
    "cnn = models.Sequential([\n",
    "    layers.Conv2D(filters=32, kernel_size=(3,3), activation='relu', input_shape=(32,32,3)),\n",
    "    layers.MaxPooling2D((2,2)),\n",
    "\n",
    "    layers.Conv2D(filters=64, kernel_size=(3,3), activation='relu'),\n",
    "    layers.MaxPooling2D((2,2)),\n",
    "\n",
    "    layers.Flatten(),\n",
    "    layers.Dense(64, activation='relu'),\n",
    "\n",
    "    layers.Dense(10,activation='softmax')\n",
    "])"
   ]
  },
  {
   "cell_type": "code",
   "execution_count": 83,
   "id": "0efaf717-8c1c-40ec-911b-5c96381dc610",
   "metadata": {},
   "outputs": [],
   "source": [
    "cnn.compile(optimizer='adam',\n",
    "              loss='sparse_categorical_crossentropy',\n",
    "              metrics=['accuracy'])\n"
   ]
  },
  {
   "cell_type": "code",
   "execution_count": 84,
   "id": "0c3909b3-46a0-4c06-82e9-3fcccbe527a6",
   "metadata": {},
   "outputs": [
    {
     "name": "stdout",
     "output_type": "stream",
     "text": [
      "Epoch 1/10\n",
      "1563/1563 [==============================] - 15s 9ms/step - loss: 1.4438 - accuracy: 0.4839\n",
      "Epoch 2/10\n",
      "1563/1563 [==============================] - 15s 10ms/step - loss: 1.0967 - accuracy: 0.6146\n",
      "Epoch 3/10\n",
      "1563/1563 [==============================] - 16s 10ms/step - loss: 0.9779 - accuracy: 0.6593\n",
      "Epoch 4/10\n",
      "1563/1563 [==============================] - 16s 10ms/step - loss: 0.8987 - accuracy: 0.6862\n",
      "Epoch 5/10\n",
      "1563/1563 [==============================] - 16s 10ms/step - loss: 0.8412 - accuracy: 0.7085\n",
      "Epoch 6/10\n",
      "1563/1563 [==============================] - 16s 10ms/step - loss: 0.7829 - accuracy: 0.7268\n",
      "Epoch 7/10\n",
      "1563/1563 [==============================] - 17s 11ms/step - loss: 0.7383 - accuracy: 0.7427\n",
      "Epoch 8/10\n",
      "1563/1563 [==============================] - 16s 10ms/step - loss: 0.6939 - accuracy: 0.7581\n",
      "Epoch 9/10\n",
      "1563/1563 [==============================] - 16s 10ms/step - loss: 0.6574 - accuracy: 0.7697\n",
      "Epoch 10/10\n",
      "1563/1563 [==============================] - 17s 11ms/step - loss: 0.6214 - accuracy: 0.7841\n",
      "313/313 [==============================] - 2s 5ms/step - loss: 0.9190 - accuracy: 0.7013\n"
     ]
    },
    {
     "data": {
      "text/plain": [
       "[0.9189956784248352, 0.7013000249862671]"
      ]
     },
     "execution_count": 84,
     "metadata": {},
     "output_type": "execute_result"
    }
   ],
   "source": [
    "cnn.fit(x_train, y_train, epochs=10)\n",
    "cnn.evaluate(x_test, y_test)"
   ]
  },
  {
   "cell_type": "code",
   "execution_count": 85,
   "id": "4f4ddcf0-a4fa-4987-b628-68f673c8e587",
   "metadata": {},
   "outputs": [
    {
     "name": "stdout",
     "output_type": "stream",
     "text": [
      "313/313 [==============================] - 2s 5ms/step - loss: 0.9190 - accuracy: 0.7013\n"
     ]
    },
    {
     "data": {
      "text/plain": [
       "[0.9189956784248352, 0.7013000249862671]"
      ]
     },
     "execution_count": 85,
     "metadata": {},
     "output_type": "execute_result"
    }
   ],
   "source": [
    "cnn.evaluate(x_test,y_test)"
   ]
  },
  {
   "cell_type": "code",
   "execution_count": 86,
   "id": "e2ef8d5f-a724-42ee-a62c-0a82f126e8f0",
   "metadata": {},
   "outputs": [
    {
     "name": "stdout",
     "output_type": "stream",
     "text": [
      "313/313 [==============================] - 1s 4ms/step\n"
     ]
    },
    {
     "data": {
      "text/plain": [
       "array([[7.9102966e-04, 1.1678714e-05, 7.4574066e-04, 9.3509191e-01,\n",
       "        3.0466079e-05, 4.2629723e-02, 1.9376146e-02, 3.1241003e-04,\n",
       "        4.4807082e-04, 5.6275976e-04],\n",
       "       [4.8033293e-05, 1.2442070e-03, 9.9948090e-07, 1.0033573e-08,\n",
       "        4.9856106e-09, 5.1254830e-11, 4.5346858e-11, 5.3370138e-11,\n",
       "        9.9867785e-01, 2.8951419e-05],\n",
       "       [1.7265296e-02, 1.9450265e-01, 1.7884039e-04, 1.2107417e-03,\n",
       "        7.1823748e-04, 1.5400488e-04, 8.0936683e-05, 1.1990626e-03,\n",
       "        6.5152282e-01, 1.3316731e-01],\n",
       "       [8.8852513e-01, 4.4655260e-02, 2.3671584e-03, 1.9119744e-03,\n",
       "        9.0036681e-03, 1.2655704e-05, 1.0814690e-05, 7.7126926e-05,\n",
       "        5.3223141e-02, 2.1295711e-04],\n",
       "       [2.6906728e-06, 1.3813098e-05, 6.7001572e-03, 4.3684202e-01,\n",
       "        3.2231990e-01, 2.5635019e-02, 2.0831768e-01, 7.0756760e-05,\n",
       "        8.9823188e-05, 8.0460213e-06]], dtype=float32)"
      ]
     },
     "execution_count": 86,
     "metadata": {},
     "output_type": "execute_result"
    }
   ],
   "source": [
    "y_pred = cnn.predict(x_test)\n",
    "y_pred[:5]"
   ]
  },
  {
   "cell_type": "code",
   "execution_count": 87,
   "id": "330f290b-9ba3-4cf0-8c97-900669d85776",
   "metadata": {},
   "outputs": [
    {
     "data": {
      "text/plain": [
       "[3, 8, 8, 0, 3]"
      ]
     },
     "execution_count": 87,
     "metadata": {},
     "output_type": "execute_result"
    }
   ],
   "source": [
    "y_categories = [np.argmax(element) for element in y_pred]\n",
    "y_categories[:5]"
   ]
  },
  {
   "cell_type": "code",
   "execution_count": 89,
   "id": "981ec670-dc18-453b-a1f9-e6a2d35ac5c5",
   "metadata": {},
   "outputs": [
    {
     "data": {
      "text/plain": [
       "array([3, 8, 8, 0, 6], dtype=uint8)"
      ]
     },
     "execution_count": 89,
     "metadata": {},
     "output_type": "execute_result"
    }
   ],
   "source": [
    " y_test[:5]"
   ]
  },
  {
   "cell_type": "code",
   "execution_count": 96,
   "id": "a99c1c89-53d7-41b0-9209-fc13ff6597c2",
   "metadata": {},
   "outputs": [
    {
     "data": {
      "image/png": "[encoded data removed]",
      "text/plain": [
       "<Figure size 1500x200 with 1 Axes>"
      ]
     },
     "metadata": {},
     "output_type": "display_data"
    }
   ],
   "source": [
    " plot_sample(x_test, y_test,3)"
   ]
  },
  {
   "cell_type": "code",
   "execution_count": 97,
   "id": "ae0af5d8-3167-4c0d-a34b-c138cb18df2e",
   "metadata": {},
   "outputs": [
    {
     "data": {
      "text/plain": [
       "'aeroplane'"
      ]
     },
     "execution_count": 97,
     "metadata": {},
     "output_type": "execute_result"
    }
   ],
   "source": [
    "categories[y_categories[3]]"
   ]
  },
  {
   "cell_type": "code",
   "execution_count": null,
   "id": "b2bfe2cb-5089-476a-8950-19c5a570efa3",
   "metadata": {},
   "outputs": [],
   "source": []
  }
 ],
 "metadata": {
  "kernelspec": {
   "display_name": "Python 3 (ipykernel)",
   "language": "python",
   "name": "python3"
  },
  "language_info": {
   "codemirror_mode": {
    "name": "ipython",
    "version": 3
   },
   "file_extension": ".py",
   "mimetype": "text/x-python",
   "name": "python",
   "nbconvert_exporter": "python",
   "pygments_lexer": "ipython3",
   "version": "3.9.18"
  }
 },
 "nbformat": 4,
 "nbformat_minor": 5
}
